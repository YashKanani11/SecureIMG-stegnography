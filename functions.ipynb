{
 "cells": [
  {
   "cell_type": "code",
   "execution_count": 1,
   "metadata": {},
   "outputs": [],
   "source": [
    "from PIL import Image\n",
    "import pandas as pd\n",
    "import numpy as np\n",
    "\n",
    "class ImageSteg:\n",
    "\n",
    "  def __fillMSB(self, inp):\n",
    "    \n",
    "    inp = inp.split(\"b\")[-1]\n",
    "    inp = '0'*(7-len(inp))+inp\n",
    "    return [int(x) for x in inp]\n",
    "\n",
    "  def __decrypt_pixels(self, pixels):\n",
    "    \n",
    "    # Given list of 7 pixel values -> Determine 0/1 -> Join 7 0/1s to form binary -> integer -> character\n",
    "    \n",
    "\n",
    "    pixels = [str(x%2) for x in pixels]\n",
    "    bin_repr = \"\".join(pixels)\n",
    "    return chr(int(bin_repr,2))\n",
    "\n",
    "  def encrypt_text_in_image(self, image_path, msg, target_path=\"\"):\n",
    "    \n",
    "    # Read image -> Flatten -> encrypt images using LSB -> reshape and repack -> return image\n",
    "    \n",
    "    img = np.array(Image.open(image_path))\n",
    "    imgArr = img.flatten()\n",
    "    msg += \"<-END->\"\n",
    "    msgArr = [self.__fillMSB(bin(ord(ch))) for ch in msg]\n",
    "    \n",
    "    idx = 0\n",
    "    for char in msgArr:\n",
    "      for bit in char:\n",
    "        if bit==1:\n",
    "          if imgArr[idx]==0:\n",
    "            imgArr[idx] = 1\n",
    "          else:\n",
    "            imgArr[idx] = imgArr[idx] if imgArr[idx]%2==1 else imgArr[idx]-1\n",
    "        else: \n",
    "          if imgArr[idx]==255:\n",
    "            imgArr[idx] = 254\n",
    "          else:\n",
    "            imgArr[idx] = imgArr[idx] if imgArr[idx]%2==0 else imgArr[idx]+1   \n",
    "        idx += 1\n",
    "      \n",
    "    savePath = target_path+ image_path.split(\".\")[0] + \"_encrypted.png\"\n",
    "\n",
    "    resImg = Image.fromarray(np.reshape(imgArr, img.shape))\n",
    "    resImg.save(savePath)\n",
    "    return \n",
    "\n",
    "  def decrypt_text_in_image(self, image_path,target_path=\"\"):\n",
    "    \n",
    "    \n",
    "    img = np.array(Image.open(image_path))\n",
    "    imgArr = np.array(img).flatten()\n",
    "    \n",
    "    decrypted_message = \"\"\n",
    "    for i in range(7,len(imgArr),7):\n",
    "      decrypted_char = self.__decrypt_pixels(imgArr[i-7:i])\n",
    "      decrypted_message += decrypted_char\n",
    "\n",
    "      if len(decrypted_message)>10 and decrypted_message[-7:] == \"<-END->\":\n",
    "        break\n",
    "\n",
    "    return decrypted_message[:-7]"
   ]
  },
  {
   "cell_type": "code",
   "execution_count": 5,
   "metadata": {},
   "outputs": [],
   "source": [
    "\n",
    "img = ImageSteg()\n",
    "\n",
    "img.encrypt_text_in_image(\"img2.jpg\",\"Yash Kananni Message\",\"decrypted/image\")\n"
   ]
  },
  {
   "cell_type": "code",
   "execution_count": 6,
   "metadata": {},
   "outputs": [
    {
     "name": "stdout",
     "output_type": "stream",
     "text": [
      "Yash Kananni Message\n"
     ]
    }
   ],
   "source": [
    "res2 = img.decrypt_text_in_image(\"decrypted\\imageimg2_encrypted.png\")\n",
    "print(res2)"
   ]
  },
  {
   "cell_type": "code",
   "execution_count": null,
   "metadata": {},
   "outputs": [],
   "source": []
  }
 ],
 "metadata": {
  "kernelspec": {
   "display_name": "Python 3",
   "language": "python",
   "name": "python3"
  },
  "language_info": {
   "codemirror_mode": {
    "name": "ipython",
    "version": 3
   },
   "file_extension": ".py",
   "mimetype": "text/x-python",
   "name": "python",
   "nbconvert_exporter": "python",
   "pygments_lexer": "ipython3",
   "version": "3.11.5"
  }
 },
 "nbformat": 4,
 "nbformat_minor": 2
}
